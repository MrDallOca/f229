{
 "cells": [
  {
   "cell_type": "code",
   "execution_count": 70,
   "metadata": {},
   "outputs": [],
   "source": [
    "import pandas as pd\n",
    "import matplotlib.pyplot as plt\n",
    "import numpy as np\n",
    "%matplotlib inline"
   ]
  },
  {
   "cell_type": "code",
   "execution_count": 71,
   "metadata": {},
   "outputs": [
    {
     "data": {
      "text/html": [
       "<div>\n",
       "<style scoped>\n",
       "    .dataframe tbody tr th:only-of-type {\n",
       "        vertical-align: middle;\n",
       "    }\n",
       "\n",
       "    .dataframe tbody tr th {\n",
       "        vertical-align: top;\n",
       "    }\n",
       "\n",
       "    .dataframe thead th {\n",
       "        text-align: right;\n",
       "    }\n",
       "</style>\n",
       "<table border=\"1\" class=\"dataframe\">\n",
       "  <thead>\n",
       "    <tr style=\"text-align: right;\">\n",
       "      <th></th>\n",
       "      <th>Bolinha 1</th>\n",
       "      <th>Bolinha 2</th>\n",
       "      <th>Bolinha 3</th>\n",
       "      <th>Bolinha 4</th>\n",
       "    </tr>\n",
       "  </thead>\n",
       "  <tbody>\n",
       "    <tr>\n",
       "      <th>0</th>\n",
       "      <td>1.87</td>\n",
       "      <td>1.50</td>\n",
       "      <td>1.16</td>\n",
       "      <td>0.79</td>\n",
       "    </tr>\n",
       "    <tr>\n",
       "      <th>1</th>\n",
       "      <td>1.94</td>\n",
       "      <td>1.44</td>\n",
       "      <td>1.09</td>\n",
       "      <td>0.81</td>\n",
       "    </tr>\n",
       "    <tr>\n",
       "      <th>2</th>\n",
       "      <td>1.81</td>\n",
       "      <td>1.47</td>\n",
       "      <td>1.06</td>\n",
       "      <td>0.72</td>\n",
       "    </tr>\n",
       "    <tr>\n",
       "      <th>3</th>\n",
       "      <td>1.97</td>\n",
       "      <td>1.44</td>\n",
       "      <td>1.09</td>\n",
       "      <td>0.72</td>\n",
       "    </tr>\n",
       "    <tr>\n",
       "      <th>4</th>\n",
       "      <td>1.85</td>\n",
       "      <td>1.43</td>\n",
       "      <td>1.09</td>\n",
       "      <td>0.72</td>\n",
       "    </tr>\n",
       "    <tr>\n",
       "      <th>5</th>\n",
       "      <td>1.84</td>\n",
       "      <td>1.44</td>\n",
       "      <td>1.09</td>\n",
       "      <td>0.81</td>\n",
       "    </tr>\n",
       "    <tr>\n",
       "      <th>6</th>\n",
       "      <td>1.84</td>\n",
       "      <td>1.47</td>\n",
       "      <td>1.09</td>\n",
       "      <td>0.75</td>\n",
       "    </tr>\n",
       "    <tr>\n",
       "      <th>7</th>\n",
       "      <td>1.97</td>\n",
       "      <td>1.44</td>\n",
       "      <td>1.00</td>\n",
       "      <td>0.82</td>\n",
       "    </tr>\n",
       "    <tr>\n",
       "      <th>8</th>\n",
       "      <td>1.85</td>\n",
       "      <td>1.47</td>\n",
       "      <td>1.06</td>\n",
       "      <td>0.75</td>\n",
       "    </tr>\n",
       "    <tr>\n",
       "      <th>9</th>\n",
       "      <td>1.91</td>\n",
       "      <td>1.47</td>\n",
       "      <td>1.10</td>\n",
       "      <td>0.84</td>\n",
       "    </tr>\n",
       "    <tr>\n",
       "      <th>10</th>\n",
       "      <td>1.81</td>\n",
       "      <td>1.37</td>\n",
       "      <td>1.06</td>\n",
       "      <td>0.68</td>\n",
       "    </tr>\n",
       "    <tr>\n",
       "      <th>11</th>\n",
       "      <td>1.94</td>\n",
       "      <td>1.41</td>\n",
       "      <td>1.06</td>\n",
       "      <td>0.82</td>\n",
       "    </tr>\n",
       "    <tr>\n",
       "      <th>12</th>\n",
       "      <td>2.12</td>\n",
       "      <td>1.31</td>\n",
       "      <td>1.10</td>\n",
       "      <td>0.72</td>\n",
       "    </tr>\n",
       "    <tr>\n",
       "      <th>13</th>\n",
       "      <td>2.00</td>\n",
       "      <td>1.38</td>\n",
       "      <td>1.12</td>\n",
       "      <td>0.68</td>\n",
       "    </tr>\n",
       "    <tr>\n",
       "      <th>14</th>\n",
       "      <td>1.97</td>\n",
       "      <td>1.56</td>\n",
       "      <td>1.12</td>\n",
       "      <td>0.72</td>\n",
       "    </tr>\n",
       "    <tr>\n",
       "      <th>15</th>\n",
       "      <td>2.03</td>\n",
       "      <td>1.37</td>\n",
       "      <td>1.09</td>\n",
       "      <td>0.79</td>\n",
       "    </tr>\n",
       "    <tr>\n",
       "      <th>16</th>\n",
       "      <td>1.97</td>\n",
       "      <td>1.44</td>\n",
       "      <td>1.13</td>\n",
       "      <td>0.79</td>\n",
       "    </tr>\n",
       "    <tr>\n",
       "      <th>17</th>\n",
       "      <td>1.94</td>\n",
       "      <td>1.38</td>\n",
       "      <td>1.00</td>\n",
       "      <td>0.78</td>\n",
       "    </tr>\n",
       "    <tr>\n",
       "      <th>18</th>\n",
       "      <td>2.07</td>\n",
       "      <td>1.32</td>\n",
       "      <td>1.19</td>\n",
       "      <td>0.75</td>\n",
       "    </tr>\n",
       "    <tr>\n",
       "      <th>19</th>\n",
       "      <td>2.06</td>\n",
       "      <td>1.34</td>\n",
       "      <td>1.07</td>\n",
       "      <td>0.75</td>\n",
       "    </tr>\n",
       "  </tbody>\n",
       "</table>\n",
       "</div>"
      ],
      "text/plain": [
       "    Bolinha 1  Bolinha 2  Bolinha 3  Bolinha 4\n",
       "0        1.87       1.50       1.16       0.79\n",
       "1        1.94       1.44       1.09       0.81\n",
       "2        1.81       1.47       1.06       0.72\n",
       "3        1.97       1.44       1.09       0.72\n",
       "4        1.85       1.43       1.09       0.72\n",
       "5        1.84       1.44       1.09       0.81\n",
       "6        1.84       1.47       1.09       0.75\n",
       "7        1.97       1.44       1.00       0.82\n",
       "8        1.85       1.47       1.06       0.75\n",
       "9        1.91       1.47       1.10       0.84\n",
       "10       1.81       1.37       1.06       0.68\n",
       "11       1.94       1.41       1.06       0.82\n",
       "12       2.12       1.31       1.10       0.72\n",
       "13       2.00       1.38       1.12       0.68\n",
       "14       1.97       1.56       1.12       0.72\n",
       "15       2.03       1.37       1.09       0.79\n",
       "16       1.97       1.44       1.13       0.79\n",
       "17       1.94       1.38       1.00       0.78\n",
       "18       2.07       1.32       1.19       0.75\n",
       "19       2.06       1.34       1.07       0.75"
      ]
     },
     "execution_count": 71,
     "metadata": {},
     "output_type": "execute_result"
    }
   ],
   "source": [
    "tempos = pd.read_csv(\"tempos.csv\").apply(lambda x: x.str.replace(',','.')).astype(\"float\")\n",
    "tempos"
   ]
  },
  {
   "cell_type": "code",
   "execution_count": 72,
   "metadata": {},
   "outputs": [],
   "source": [
    "p = 7.82e3\n",
    "pl = 1.2e3\n",
    "A = 0.02775\n",
    "H = 0.398\n",
    "g = 9.8\n",
    "r = np.array([1*10**-3, 1.25*10**-3, 1.5*10**-3, 1.95*10**-3])\n",
    "ds = 0.2\n",
    "K = lambda r: (1 + 2.4*r/A)/(1 + 3.3*r/H)\n",
    "vel = lambda ds,t: ds / t\n",
    "ts = tempos.apply(lambda x: np.mean(x), axis=0).values"
   ]
  },
  {
   "cell_type": "code",
   "execution_count": 73,
   "metadata": {},
   "outputs": [],
   "source": [
    "x = lambda r,g,p,pl: (2/9)*(p - pl)*g*r**2\n",
    "y = lambda K,v: K*v"
   ]
  },
  {
   "cell_type": "markdown",
   "metadata": {},
   "source": [
    "## Cálculo das incertezas"
   ]
  },
  {
   "cell_type": "markdown",
   "metadata": {},
   "source": [
    "Incerteza de f.d.p associada à medição do tempo de cada bolinha:"
   ]
  },
  {
   "cell_type": "code",
   "execution_count": 74,
   "metadata": {},
   "outputs": [
    {
     "data": {
      "text/plain": [
       "Bolinha 1    0.019667\n",
       "Bolinha 2    0.013673\n",
       "Bolinha 3    0.009830\n",
       "Bolinha 4    0.010356\n",
       "dtype: float64"
      ]
     },
     "execution_count": 74,
     "metadata": {},
     "output_type": "execute_result"
    }
   ],
   "source": [
    "tempos.apply(lambda x: np.std(x) / (x.shape[0] ** (1/2)), \n",
    "             axis=0)"
   ]
  },
  {
   "cell_type": "markdown",
   "metadata": {},
   "source": [
    "$$ \n",
    "u_t = \\frac{\\sigma}{\\sqrt{n}}, n = 20 \\\\~\\\\ \n",
    "u_L = \\frac{0,02m}{2\\sqrt{6}} = 0,004m \\\\~\\\\  \n",
    "u_H = \\frac{0,02m}{2\\sqrt{6}} = 0,004m \\\\~\\\\\n",
    "u_A = \\frac{0,00005m}{2\\sqrt{6}} = 0,00001m \\text{ *medido  com parquímetro} \\\\~\\\\\n",
    "u_r = \\frac{0,00005m}{2\\sqrt{6}} = 0,00001m \\text{ *medido  com parquímetro}\n",
    "$$"
   ]
  },
  {
   "cell_type": "code",
   "execution_count": 75,
   "metadata": {},
   "outputs": [
    {
     "data": {
      "text/plain": [
       "array([0.01966723, 0.01367251, 0.00983044, 0.01035555])"
      ]
     },
     "execution_count": 75,
     "metadata": {},
     "output_type": "execute_result"
    }
   ],
   "source": [
    "ut = tempos.apply(lambda x: np.std(x) / (x.shape[0] ** (1/2)), \n",
    "                  axis=0).values\n",
    "uL = 0.004\n",
    "uH = 0.004\n",
    "uA = 0.00001\n",
    "ur = 0.00001\n",
    "ut"
   ]
  },
  {
   "cell_type": "markdown",
   "metadata": {},
   "source": [
    "|Incerteza | valor          |\n",
    "|----------|----------------|\n",
    "| $u_{t1}$ | $\\text{0,02}s$ |\n",
    "| $u_{t2}$ | $\\text{0,01}s$ |\n",
    "| $u_{t3}$ | $\\text{0,01}s$ |\n",
    "| $u_{t4}$ | $\\text{0,01}s$ |"
   ]
  },
  {
   "cell_type": "markdown",
   "metadata": {},
   "source": [
    "$$v'_L = \\frac{L}{t}$$\n",
    "\n",
    "$$u_{v'_L} = \\sqrt{(\\frac{\\delta u_{v'_L}}{\\delta L})^2 u_L^2 + \\frac{\\delta u_{v'_L}}{\\delta t})^2 u_t^2}$$\n",
    "\n",
    "$$u_{v'_L} = \\sqrt{(1)^2 u_L^2 + (\\frac{-1}{t^2})^2 u_t^2}$$\n"
   ]
  },
  {
   "cell_type": "code",
   "execution_count": 76,
   "metadata": {},
   "outputs": [
    {
     "data": {
      "text/plain": [
       "array([0.0065894 , 0.00785206, 0.00921079, 0.01834639])"
      ]
     },
     "execution_count": 76,
     "metadata": {},
     "output_type": "execute_result"
    }
   ],
   "source": [
    "uv = np.array([(uL**2 + (-1/t**2)**2 * ut[i]**2)**(1/2) \n",
    "               for (i,t) in enumerate(ts)])\n",
    "uv"
   ]
  },
  {
   "cell_type": "markdown",
   "metadata": {},
   "source": [
    "|Incerteza      | valor             |\n",
    "|---------------|-------------------|\n",
    "| $u_{v'_{L1}}$ | $\\text{0,007m/s}$ |\n",
    "| $u_{v'_{L2}}$ | $\\text{0,008m/s}$ |\n",
    "| $u_{v'_{L3}}$ | $\\text{0,009m/s}$ |\n",
    "| $u_{v'_{L4}}$ | $\\text{0,02m/s}$  |\n"
   ]
  },
  {
   "cell_type": "markdown",
   "metadata": {},
   "source": [
    "$$K = 1 + 3,3\\frac{r}{H} + 2,4\\frac{r}{A} + 7,92\\frac{r^2}{AH}$$"
   ]
  },
  {
   "cell_type": "markdown",
   "metadata": {},
   "source": [
    "$$\\frac{\\delta K}{\\delta A} = -2,4rA^{-2} -7,92\\frac{r^2}{H}A^{-2}$$"
   ]
  },
  {
   "cell_type": "markdown",
   "metadata": {},
   "source": [
    "$$\\frac{\\delta K}{\\delta H} = -3,3rH^{-2} -7,92\\frac{r^2}{A}H^{-2}$$"
   ]
  },
  {
   "cell_type": "markdown",
   "metadata": {},
   "source": [
    "$$\\frac{\\delta K}{\\delta r} = \\frac{3,3}{H} + \\frac{2,4}{A} + 15,84\\frac{r}{AH}$$"
   ]
  },
  {
   "cell_type": "markdown",
   "metadata": {},
   "source": [
    "$$u_K = \\sqrt{(\\frac{\\delta K}{\\delta A})^2 u_A^2 + (\\frac{\\delta K}{\\delta H})^2 u_H^2 + (\\frac{\\delta K}{\\delta r})^2 u_r^2}$$"
   ]
  },
  {
   "cell_type": "code",
   "execution_count": 77,
   "metadata": {},
   "outputs": [
    {
     "data": {
      "text/plain": [
       "array([0.00096688, 0.00097338, 0.00098067, 0.00099597])"
      ]
     },
     "execution_count": 77,
     "metadata": {},
     "output_type": "execute_result"
    }
   ],
   "source": [
    "dKA = lambda r,A,H: -2.4*r*A**(-2) - 7.92*r**2/H*A**(-2)\n",
    "dKH = lambda r,A,H: -3.3*r*H**(-2) - 7.92*r**2/A*H**(-2)\n",
    "dKr = lambda r,A,H: 3.3/H + 2.4/A + 15.84*r/(A*H)\n",
    "\n",
    "uK = np.array([((dKA(r,A,H))**2*uA**2 + \n",
    "                (dKH(r,A,H))**2*uH**2 + \n",
    "                (dKr(r,A,H))**2*ur**2)**(1/2) \n",
    "               for r in r])\n",
    "uK"
   ]
  },
  {
   "cell_type": "markdown",
   "metadata": {},
   "source": [
    "$$u_{K1} = u_{K2} = u_{K3} = u_{K4} = 0.0001 $$\n",
    "\n",
    "(K não tem unidade)"
   ]
  },
  {
   "cell_type": "markdown",
   "metadata": {},
   "source": [
    "## Regressão linear"
   ]
  },
  {
   "cell_type": "code",
   "execution_count": 78,
   "metadata": {
    "scrolled": true
   },
   "outputs": [],
   "source": [
    "(xv, yv) = x(r,g,p,pl),y(K(r),vel(ds, ts))"
   ]
  },
  {
   "cell_type": "code",
   "execution_count": 79,
   "metadata": {},
   "outputs": [
    {
     "data": {
      "text/plain": [
       "<matplotlib.collections.PathCollection at 0x7f530b179400>"
      ]
     },
     "execution_count": 79,
     "metadata": {},
     "output_type": "execute_result"
    },
    {
     "data": {
      "image/png": "[encoded data removed]",
      "text/plain": [
       "<Figure size 432x288 with 1 Axes>"
      ]
     },
     "metadata": {},
     "output_type": "display_data"
    }
   ],
   "source": [
    "plt.scatter(xv,yv)"
   ]
  },
  {
   "cell_type": "code",
   "execution_count": 80,
   "metadata": {},
   "outputs": [
    {
     "data": {
      "text/plain": [
       "(array([[0.01441689],\n",
       "        [0.02252639],\n",
       "        [0.032438  ],\n",
       "        [0.05482022]]), array([[0.11120248],\n",
       "        [0.1541991 ],\n",
       "        [0.20502557],\n",
       "        [0.30244686]]))"
      ]
     },
     "execution_count": 80,
     "metadata": {},
     "output_type": "execute_result"
    }
   ],
   "source": [
    "xv.reshape(4,-1),yv.reshape(4,-1)"
   ]
  },
  {
   "cell_type": "code",
   "execution_count": 81,
   "metadata": {},
   "outputs": [
    {
     "data": {
      "text/plain": [
       "[<matplotlib.lines.Line2D at 0x7f530b19cf28>]"
      ]
     },
     "execution_count": 81,
     "metadata": {},
     "output_type": "execute_result"
    },
    {
     "data": {
      "image/png": "[encoded data removed]",
      "text/plain": [
       "<Figure size 432x288 with 1 Axes>"
      ]
     },
     "metadata": {},
     "output_type": "display_data"
    }
   ],
   "source": [
    "import sklearn.linear_model as lm\n",
    "lr = lm.LinearRegression().fit(xv.reshape(4,-1),yv.reshape(4,-1))\n",
    "testx = np.linspace(0,0.07, 10).reshape(10, -1)\n",
    "plt.scatter(xv,yv)\n",
    "plt.plot(testx, lr.predict(testx))"
   ]
  },
  {
   "cell_type": "code",
   "execution_count": 82,
   "metadata": {},
   "outputs": [
    {
     "data": {
      "text/plain": [
       "4.703389415290037"
      ]
     },
     "execution_count": 82,
     "metadata": {},
     "output_type": "execute_result"
    }
   ],
   "source": [
    "a = lr.coef_[0][0]\n",
    "a"
   ]
  },
  {
   "cell_type": "code",
   "execution_count": 83,
   "metadata": {},
   "outputs": [
    {
     "data": {
      "text/plain": [
       "0.21261263138219963"
      ]
     },
     "execution_count": 83,
     "metadata": {},
     "output_type": "execute_result"
    }
   ],
   "source": [
    "n = 1/a\n",
    "n"
   ]
  },
  {
   "cell_type": "code",
   "execution_count": 89,
   "metadata": {},
   "outputs": [
    {
     "data": {
      "text/plain": [
       "<statsmodels.regression.linear_model.RegressionResultsWrapper at 0x7f5306d027f0>"
      ]
     },
     "execution_count": 89,
     "metadata": {},
     "output_type": "execute_result"
    }
   ],
   "source": [
    "import statsmodels.api as sm\n",
    "ols = sm.OLS(yv, xv)\n",
    "ols_result = ols.fit()\n",
    "# Now you have at your disposition several error estimates, e.g.\n",
    "ols_result"
   ]
  }
 ],
 "metadata": {
  "kernelspec": {
   "display_name": "Python 3",
   "language": "python",
   "name": "python3"
  },
  "language_info": {
   "codemirror_mode": {
    "name": "ipython",
    "version": 3
   },
   "file_extension": ".py",
   "mimetype": "text/x-python",
   "name": "python",
   "nbconvert_exporter": "python",
   "pygments_lexer": "ipython3",
   "version": "3.6.5"
  }
 },
 "nbformat": 4,
 "nbformat_minor": 2
}
